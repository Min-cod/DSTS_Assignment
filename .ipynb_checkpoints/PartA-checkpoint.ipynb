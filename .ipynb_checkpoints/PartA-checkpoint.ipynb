{
 "cells": [
  {
   "cell_type": "markdown",
   "id": "a6098b4c",
   "metadata": {},
   "source": [
    "# Prediction of Restaurant's Business Conditions based on ML Techniques \n",
    "### Min Gao U3220536"
   ]
  },
  {
   "cell_type": "markdown",
   "id": "b07b3f22",
   "metadata": {},
   "source": [
    "## Part A  Importing and Understanding data\n",
    "\n",
    "### 1. Plots/Graphs\n",
    "How many unique cuisines are served by Sydney restaurants?\n",
    "\n",
    "Top_3 suburbs with the highest number of restaurants\n",
    "\n",
    "The relationship between rating and price.\n",
    "\n",
    "### 2. Plots/Graphs\n",
    "### 3. Produce  Cusine Density Map"
   ]
  },
  {
   "cell_type": "code",
   "execution_count": 40,
   "id": "d4ad9bf0",
   "metadata": {},
   "outputs": [
    {
     "name": "stdout",
     "output_type": "stream",
     "text": [
      "Raw data:                                               address   cost  \\\n",
      "0                      371A Pitt Street, CBD, Sydney   50.0   \n",
      "1      Shop 7A, 2 Huntley Street, Alexandria, Sydney   80.0   \n",
      "2   Level G, The Darling at the Star, 80 Pyrmont ...  120.0   \n",
      "3   Sydney Opera House, Bennelong Point, Circular...  270.0   \n",
      "4              20 Campbell Street, Chinatown, Sydney   55.0   \n",
      "\n",
      "                                       cuisine        lat  \\\n",
      "0   ['Hot Pot', 'Korean BBQ', 'BBQ', 'Korean'] -33.876059   \n",
      "1  ['Cafe', 'Coffee and Tea', 'Salad', 'Poké'] -33.910999   \n",
      "2                                 ['Japanese'] -33.867971   \n",
      "3                        ['Modern Australian'] -33.856784   \n",
      "4                            ['Thai', 'Salad'] -33.879035   \n",
      "\n",
      "                                                link         lng  \\\n",
      "0    https://www.zomato.com/sydney/sydney-madang-cbd  151.207605   \n",
      "1  https://www.zomato.com/sydney/the-grounds-of-a...  151.193793   \n",
      "2        https://www.zomato.com/sydney/sokyo-pyrmont  151.195210   \n",
      "3  https://www.zomato.com/sydney/bennelong-restau...  151.215297   \n",
      "4  https://www.zomato.com/sydney/chat-thai-chinatown  151.206409   \n",
      "\n",
      "          phone  rating_number rating_text  \\\n",
      "0  02 8318 0406            4.0   Very Good   \n",
      "1  02 9699 2225            4.6   Excellent   \n",
      "2  1800 700 700            4.9   Excellent   \n",
      "3  02 9240 8000            4.9   Excellent   \n",
      "4  02 8317 4811            4.5   Excellent   \n",
      "\n",
      "                                 subzone                           title  \\\n",
      "0                                    CBD                   Sydney Madang   \n",
      "1  The Grounds of Alexandria, Alexandria  The Grounds of Alexandria Cafe   \n",
      "2                      The Star, Pyrmont                           Sokyo   \n",
      "3                          Circular Quay            Bennelong Restaurant   \n",
      "4                              Chinatown                       Chat Thai   \n",
      "\n",
      "                     type   votes  groupon    color     cost_2 cuisine_color  \n",
      "0       ['Casual Dining']  1311.0    False  #e15307   5.243902       #6f706b  \n",
      "1                ['Café']  3236.0    False  #9c3203   7.560976       #6f706b  \n",
      "2         ['Fine Dining']  1227.0    False  #7f2704  10.650407       #6f706b  \n",
      "3  ['Fine Dining', 'Bar']   278.0    False  #7f2704  22.235772       #4186f4  \n",
      "4       ['Casual Dining']  2150.0    False  #a83703   5.630081       #6f706b  \n"
     ]
    }
   ],
   "source": [
    "import numpy as np\n",
    "import pandas as pd\n",
    "from pandas import DataFrame\n",
    "\n",
    "DATA_DIR = 'data/'\n",
    "OUTPUT_DIR = 'data/'\n",
    "\n",
    "# Load data\n",
    "file_name = 'zomato_df_final_data.csv'\n",
    "df = pd.read_csv(DATA_DIR + file_name) \n",
    "\n",
    "print(\"Raw data: \",df[:5])\n"
   ]
  },
  {
   "cell_type": "code",
   "execution_count": 38,
   "id": "cb92a8a5",
   "metadata": {},
   "outputs": [
    {
     "name": "stdout",
     "output_type": "stream",
     "text": [
      "The number of unique cuisines is 134\n"
     ]
    }
   ],
   "source": [
    "cuisine_list = df['cuisine'].apply(lambda x: x[1:-1].replace(\"'\",'').replace(\" \",'').split(',')) #get the cuisine list\n",
    "\n",
    "cuisine = []\n",
    "\n",
    "for sublist in cuisine_list: \n",
    "    for i in sublist:\n",
    "        cuisine.append(i)  #flatten the cuisine list\n",
    "\n",
    "print(\"The number of unique cuisines is\", len(set(cuisine))) #get all unique values with set() and count it with len()"
   ]
  },
  {
   "cell_type": "code",
   "execution_count": 45,
   "id": "387445f8",
   "metadata": {},
   "outputs": [
    {
     "data": {
      "text/html": [
       "<div>\n",
       "<style scoped>\n",
       "    .dataframe tbody tr th:only-of-type {\n",
       "        vertical-align: middle;\n",
       "    }\n",
       "\n",
       "    .dataframe tbody tr th {\n",
       "        vertical-align: top;\n",
       "    }\n",
       "\n",
       "    .dataframe thead th {\n",
       "        text-align: right;\n",
       "    }\n",
       "</style>\n",
       "<table border=\"1\" class=\"dataframe\">\n",
       "  <thead>\n",
       "    <tr style=\"text-align: right;\">\n",
       "      <th></th>\n",
       "      <th>address</th>\n",
       "      <th>cost</th>\n",
       "      <th>cuisine</th>\n",
       "      <th>lat</th>\n",
       "      <th>link</th>\n",
       "      <th>lng</th>\n",
       "      <th>phone</th>\n",
       "      <th>rating_number</th>\n",
       "      <th>rating_text</th>\n",
       "      <th>title</th>\n",
       "      <th>type</th>\n",
       "      <th>votes</th>\n",
       "      <th>groupon</th>\n",
       "      <th>color</th>\n",
       "      <th>cost_2</th>\n",
       "      <th>cuisine_color</th>\n",
       "    </tr>\n",
       "    <tr>\n",
       "      <th>subzone</th>\n",
       "      <th></th>\n",
       "      <th></th>\n",
       "      <th></th>\n",
       "      <th></th>\n",
       "      <th></th>\n",
       "      <th></th>\n",
       "      <th></th>\n",
       "      <th></th>\n",
       "      <th></th>\n",
       "      <th></th>\n",
       "      <th></th>\n",
       "      <th></th>\n",
       "      <th></th>\n",
       "      <th></th>\n",
       "      <th></th>\n",
       "      <th></th>\n",
       "    </tr>\n",
       "  </thead>\n",
       "  <tbody>\n",
       "    <tr>\n",
       "      <th>CBD</th>\n",
       "      <td>476</td>\n",
       "      <td>461</td>\n",
       "      <td>476</td>\n",
       "      <td>462</td>\n",
       "      <td>476</td>\n",
       "      <td>462</td>\n",
       "      <td>476</td>\n",
       "      <td>357</td>\n",
       "      <td>357</td>\n",
       "      <td>476</td>\n",
       "      <td>475</td>\n",
       "      <td>357</td>\n",
       "      <td>476</td>\n",
       "      <td>476</td>\n",
       "      <td>461</td>\n",
       "      <td>476</td>\n",
       "    </tr>\n",
       "    <tr>\n",
       "      <th>Surry Hills</th>\n",
       "      <td>260</td>\n",
       "      <td>257</td>\n",
       "      <td>260</td>\n",
       "      <td>259</td>\n",
       "      <td>260</td>\n",
       "      <td>259</td>\n",
       "      <td>260</td>\n",
       "      <td>227</td>\n",
       "      <td>227</td>\n",
       "      <td>260</td>\n",
       "      <td>258</td>\n",
       "      <td>227</td>\n",
       "      <td>260</td>\n",
       "      <td>260</td>\n",
       "      <td>257</td>\n",
       "      <td>260</td>\n",
       "    </tr>\n",
       "    <tr>\n",
       "      <th>Parramatta</th>\n",
       "      <td>225</td>\n",
       "      <td>220</td>\n",
       "      <td>225</td>\n",
       "      <td>221</td>\n",
       "      <td>225</td>\n",
       "      <td>221</td>\n",
       "      <td>225</td>\n",
       "      <td>147</td>\n",
       "      <td>147</td>\n",
       "      <td>225</td>\n",
       "      <td>225</td>\n",
       "      <td>147</td>\n",
       "      <td>225</td>\n",
       "      <td>225</td>\n",
       "      <td>220</td>\n",
       "      <td>225</td>\n",
       "    </tr>\n",
       "  </tbody>\n",
       "</table>\n",
       "</div>"
      ],
      "text/plain": [
       "             address  cost  cuisine  lat  link  lng  phone  rating_number  \\\n",
       "subzone                                                                     \n",
       "CBD              476   461      476  462   476  462    476            357   \n",
       "Surry Hills      260   257      260  259   260  259    260            227   \n",
       "Parramatta       225   220      225  221   225  221    225            147   \n",
       "\n",
       "             rating_text  title  type  votes  groupon  color  cost_2  \\\n",
       "subzone                                                                \n",
       "CBD                  357    476   475    357      476    476     461   \n",
       "Surry Hills          227    260   258    227      260    260     257   \n",
       "Parramatta           147    225   225    147      225    225     220   \n",
       "\n",
       "             cuisine_color  \n",
       "subzone                     \n",
       "CBD                    476  \n",
       "Surry Hills            260  \n",
       "Parramatta             225  "
      ]
     },
     "execution_count": 45,
     "metadata": {},
     "output_type": "execute_result"
    }
   ],
   "source": [
    "df.groupby(['subzone']).count().nlargest(3,'address') \n",
    "#group by sunzone and get the count of values of each with groupby() and couny()\n",
    "#get the top3 subzone with nlargest()"
   ]
  },
  {
   "cell_type": "code",
   "execution_count": 91,
   "id": "8ebe50f7",
   "metadata": {
    "collapsed": true
   },
   "outputs": [
    {
     "name": "stdout",
     "output_type": "stream",
     "text": [
      "                   cost\n",
      "rating_text            \n",
      "Average       51.021267\n",
      "Excellent    101.666667\n",
      "Good          59.528114\n",
      "Poor          55.845771\n",
      "Very Good     71.515810\n"
     ]
    }
   ],
   "source": [
    "df[\"rating_text\"].unique()\n",
    "\n",
    "df_1 = df[[\"rating_text\",\"cost\"]]\n",
    "a = df_1.groupby(['rating_text']).mean()\n",
    "\n",
    "a.plot()"
   ]
  },
  {
   "cell_type": "code",
   "execution_count": 93,
   "id": "6663bb10",
   "metadata": {},
   "outputs": [
    {
     "data": {
      "text/plain": [
       "<AxesSubplot:xlabel='rating_text'>"
      ]
     },
     "execution_count": 93,
     "metadata": {},
     "output_type": "execute_result"
    },
    {
     "data": {
      "image/png": "[encoded data removed]",
      "text/plain": [
       "<Figure size 432x288 with 1 Axes>"
      ]
     },
     "metadata": {
      "needs_background": "light"
     },
     "output_type": "display_data"
    }
   ],
   "source": [
    "#import matplotlib.pyplot as plt\n",
    "\n",
    "# plt.scatter(x = df[\"rating_text\"], y = [\"cost\"])\n",
    "\n",
    "# a.plot(kind='hist', x=\"rating_text\", y=\"cost\")\n",
    "\n",
    "\n",
    "# print bar graph\n",
    "#plt.show()"
   ]
  },
  {
   "cell_type": "code",
   "execution_count": 53,
   "id": "b7a184ed",
   "metadata": {},
   "outputs": [
    {
     "name": "stdout",
     "output_type": "stream",
     "text": [
      "   one\n",
      "0    1\n",
      "1    5\n",
      "2    4\n",
      "3    2\n",
      "4    2\n"
     ]
    },
    {
     "data": {
      "image/png": "[encoded data removed]",
      "text/plain": [
       "<Figure size 432x288 with 1 Axes>"
      ]
     },
     "metadata": {
      "needs_background": "light"
     },
     "output_type": "display_data"
    }
   ],
   "source": [
    "df_1 = pd.DataFrame(\n",
    "    np.random.randint(1, 7, 6000),\n",
    "    columns = ['one'])\n",
    "#df_1['two'] = df_1['one'] + np.random.randint(1, 7, 6000)\n",
    "ax = df_1.plot.hist(bins=12, alpha=0.5)\n",
    "\n",
    "print(df_1[:5])"
   ]
  },
  {
   "cell_type": "code",
   "execution_count": null,
   "id": "8fb1eae4",
   "metadata": {},
   "outputs": [],
   "source": []
  }
 ],
 "metadata": {
  "kernelspec": {
   "display_name": "Python 3 (ipykernel)",
   "language": "python",
   "name": "python3"
  },
  "language_info": {
   "codemirror_mode": {
    "name": "ipython",
    "version": 3
   },
   "file_extension": ".py",
   "mimetype": "text/x-python",
   "name": "python",
   "nbconvert_exporter": "python",
   "pygments_lexer": "ipython3",
   "version": "3.9.0"
  }
 },
 "nbformat": 4,
 "nbformat_minor": 5
}
